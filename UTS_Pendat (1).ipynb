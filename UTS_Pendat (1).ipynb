{
 "cells": [
  {
   "cell_type": "markdown",
   "metadata": {
    "id": "T_WoUFG_KBtd"
   },
   "source": [
    "# UTS Pendat"
   ]
  },
  {
   "cell_type": "markdown",
   "metadata": {
    "id": "zcykaQyLjZjk"
   },
   "source": [
    "## Klasifikasi Data dengan Naive Bayes\n",
    "\n",
    "\n"
   ]
  },
  {
   "cell_type": "markdown",
   "metadata": {
    "id": "Z_APrNBqfMgX"
   },
   "source": [
    "### Import Library"
   ]
  },
  {
   "cell_type": "markdown",
   "metadata": {
    "id": "GJR0My2kjzmv"
   },
   "source": [
    "Langkah pertama, yaitu import Library yang akan digunakan dimana menggunakan Library Pandas dan Scikit-learn agar nantinya dapat memanfaatkan berbagai fungsi dan algoritma yang disediakan library - library tersebut. Sehingga dapat membantu proses analisis dan pemodelan data secara lebih efisien dan mudah.\n",
    "\n",
    "Pandas adalah library Python yang menyediakan struktur data yang efisien dan mudah digunakan untuk melakukan manipulasi data dalam format tabel, termasuk membaca dan menulis data dari/ke berbagai format file seperti CSV, Excel, SQL, dan lain-lain.\n",
    "\n",
    "Scikit-learn adalah library Python yang populer digunakan untuk machine learning. Modul ini menyediakan algoritma dan fungsi untuk melakukan preprocessing data, pemilihan model, pelatihan model, evaluasi model, dan sebagainya."
   ]
  },
  {
   "cell_type": "code",
   "execution_count": 1,
   "metadata": {
    "executionInfo": {
     "elapsed": 1086,
     "status": "ok",
     "timestamp": 1680511254682,
     "user": {
      "displayName": "21-182 DESTI FITROTUN NISA",
      "userId": "06543826639552767966"
     },
     "user_tz": -420
    },
    "id": "nXg59HH8jTpo"
   },
   "outputs": [],
   "source": [
    "import numpy as np\n",
    "import pandas as pd\n",
    "import sklearn"
   ]
  },
  {
   "cell_type": "markdown",
   "metadata": {
    "id": "VRNArFx4fQWM"
   },
   "source": [
    "### Import Dataset"
   ]
  },
  {
   "cell_type": "markdown",
   "metadata": {
    "id": "g9Yw_M8e1qKg"
   },
   "source": [
    "Langkah kedua yaitu Import Dataset yang tersimpan dalam repositori pada Github dimana data tersebut berupa data breast-cancer dengan format file CSV.\n",
    "\n",
    "\"pd.read_csv\" yaitu untuk membaca file CSV yang ada di repositpri Github dan menyimpannya ke dalam variabel dataset. kemudian \"dataset.head(10)\" digunakan untuk menampilkan sepuluh baris pertama dari dataset, sehingga pengguna dapat melihat secara ringkas isi dataset tersebut.\n",
    "\n"
   ]
  },
  {
   "cell_type": "code",
   "execution_count": 2,
   "metadata": {
    "colab": {
     "base_uri": "https://localhost:8080/",
     "height": 363
    },
    "executionInfo": {
     "elapsed": 778,
     "status": "ok",
     "timestamp": 1680511261919,
     "user": {
      "displayName": "21-182 DESTI FITROTUN NISA",
      "userId": "06543826639552767966"
     },
     "user_tz": -420
    },
    "id": "jTLccFkjj7uC",
    "outputId": "3392fbc9-0491-4927-fa63-408e37459369"
   },
   "outputs": [
    {
     "data": {
      "text/html": [
       "\n",
       "  <div id=\"df-b8579f36-d4e1-4332-aef7-e6eaa546ada7\">\n",
       "    <div class=\"colab-df-container\">\n",
       "      <div>\n",
       "<style scoped>\n",
       "    .dataframe tbody tr th:only-of-type {\n",
       "        vertical-align: middle;\n",
       "    }\n",
       "\n",
       "    .dataframe tbody tr th {\n",
       "        vertical-align: top;\n",
       "    }\n",
       "\n",
       "    .dataframe thead th {\n",
       "        text-align: right;\n",
       "    }\n",
       "</style>\n",
       "<table border=\"1\" class=\"dataframe\">\n",
       "  <thead>\n",
       "    <tr style=\"text-align: right;\">\n",
       "      <th></th>\n",
       "      <th>age</th>\n",
       "      <th>mefalsepause</th>\n",
       "      <th>tumor-size</th>\n",
       "      <th>inv-falsedes</th>\n",
       "      <th>falsede-caps</th>\n",
       "      <th>deg-malig</th>\n",
       "      <th>breast</th>\n",
       "      <th>breast-quad</th>\n",
       "      <th>irradiat</th>\n",
       "      <th>class</th>\n",
       "    </tr>\n",
       "  </thead>\n",
       "  <tbody>\n",
       "    <tr>\n",
       "      <th>0</th>\n",
       "      <td>40-49</td>\n",
       "      <td>premefalse</td>\n",
       "      <td>15-19</td>\n",
       "      <td>0-2</td>\n",
       "      <td>True</td>\n",
       "      <td>3</td>\n",
       "      <td>right</td>\n",
       "      <td>left_up</td>\n",
       "      <td>False</td>\n",
       "      <td>recurrence-events</td>\n",
       "    </tr>\n",
       "    <tr>\n",
       "      <th>1</th>\n",
       "      <td>50-59</td>\n",
       "      <td>ge40</td>\n",
       "      <td>15-19</td>\n",
       "      <td>0-2</td>\n",
       "      <td>False</td>\n",
       "      <td>1</td>\n",
       "      <td>right</td>\n",
       "      <td>central</td>\n",
       "      <td>False</td>\n",
       "      <td>false-recurrence-events</td>\n",
       "    </tr>\n",
       "    <tr>\n",
       "      <th>2</th>\n",
       "      <td>50-59</td>\n",
       "      <td>ge40</td>\n",
       "      <td>35-39</td>\n",
       "      <td>0-2</td>\n",
       "      <td>False</td>\n",
       "      <td>2</td>\n",
       "      <td>left</td>\n",
       "      <td>left_low</td>\n",
       "      <td>False</td>\n",
       "      <td>recurrence-events</td>\n",
       "    </tr>\n",
       "    <tr>\n",
       "      <th>3</th>\n",
       "      <td>40-49</td>\n",
       "      <td>premefalse</td>\n",
       "      <td>35-39</td>\n",
       "      <td>0-2</td>\n",
       "      <td>True</td>\n",
       "      <td>3</td>\n",
       "      <td>right</td>\n",
       "      <td>left_low</td>\n",
       "      <td>True</td>\n",
       "      <td>false-recurrence-events</td>\n",
       "    </tr>\n",
       "    <tr>\n",
       "      <th>4</th>\n",
       "      <td>40-49</td>\n",
       "      <td>premefalse</td>\n",
       "      <td>30-34</td>\n",
       "      <td>3-5</td>\n",
       "      <td>True</td>\n",
       "      <td>2</td>\n",
       "      <td>left</td>\n",
       "      <td>right_up</td>\n",
       "      <td>False</td>\n",
       "      <td>recurrence-events</td>\n",
       "    </tr>\n",
       "    <tr>\n",
       "      <th>5</th>\n",
       "      <td>50-59</td>\n",
       "      <td>premefalse</td>\n",
       "      <td>25-29</td>\n",
       "      <td>3-5</td>\n",
       "      <td>False</td>\n",
       "      <td>2</td>\n",
       "      <td>right</td>\n",
       "      <td>left_up</td>\n",
       "      <td>True</td>\n",
       "      <td>false-recurrence-events</td>\n",
       "    </tr>\n",
       "    <tr>\n",
       "      <th>6</th>\n",
       "      <td>50-59</td>\n",
       "      <td>ge40</td>\n",
       "      <td>40-44</td>\n",
       "      <td>0-2</td>\n",
       "      <td>False</td>\n",
       "      <td>3</td>\n",
       "      <td>left</td>\n",
       "      <td>left_up</td>\n",
       "      <td>False</td>\n",
       "      <td>false-recurrence-events</td>\n",
       "    </tr>\n",
       "    <tr>\n",
       "      <th>7</th>\n",
       "      <td>40-49</td>\n",
       "      <td>premefalse</td>\n",
       "      <td>10-14</td>\n",
       "      <td>0-2</td>\n",
       "      <td>False</td>\n",
       "      <td>2</td>\n",
       "      <td>left</td>\n",
       "      <td>left_up</td>\n",
       "      <td>False</td>\n",
       "      <td>false-recurrence-events</td>\n",
       "    </tr>\n",
       "    <tr>\n",
       "      <th>8</th>\n",
       "      <td>40-49</td>\n",
       "      <td>premefalse</td>\n",
       "      <td>0-4</td>\n",
       "      <td>0-2</td>\n",
       "      <td>False</td>\n",
       "      <td>2</td>\n",
       "      <td>right</td>\n",
       "      <td>right_low</td>\n",
       "      <td>False</td>\n",
       "      <td>false-recurrence-events</td>\n",
       "    </tr>\n",
       "    <tr>\n",
       "      <th>9</th>\n",
       "      <td>40-49</td>\n",
       "      <td>ge40</td>\n",
       "      <td>40-44</td>\n",
       "      <td>15-17</td>\n",
       "      <td>True</td>\n",
       "      <td>2</td>\n",
       "      <td>right</td>\n",
       "      <td>left_up</td>\n",
       "      <td>True</td>\n",
       "      <td>false-recurrence-events</td>\n",
       "    </tr>\n",
       "  </tbody>\n",
       "</table>\n",
       "</div>\n",
       "      <button class=\"colab-df-convert\" onclick=\"convertToInteractive('df-b8579f36-d4e1-4332-aef7-e6eaa546ada7')\"\n",
       "              title=\"Convert this dataframe to an interactive table.\"\n",
       "              style=\"display:none;\">\n",
       "        \n",
       "  <svg xmlns=\"http://www.w3.org/2000/svg\" height=\"24px\"viewBox=\"0 0 24 24\"\n",
       "       width=\"24px\">\n",
       "    <path d=\"M0 0h24v24H0V0z\" fill=\"none\"/>\n",
       "    <path d=\"M18.56 5.44l.94 2.06.94-2.06 2.06-.94-2.06-.94-.94-2.06-.94 2.06-2.06.94zm-11 1L8.5 8.5l.94-2.06 2.06-.94-2.06-.94L8.5 2.5l-.94 2.06-2.06.94zm10 10l.94 2.06.94-2.06 2.06-.94-2.06-.94-.94-2.06-.94 2.06-2.06.94z\"/><path d=\"M17.41 7.96l-1.37-1.37c-.4-.4-.92-.59-1.43-.59-.52 0-1.04.2-1.43.59L10.3 9.45l-7.72 7.72c-.78.78-.78 2.05 0 2.83L4 21.41c.39.39.9.59 1.41.59.51 0 1.02-.2 1.41-.59l7.78-7.78 2.81-2.81c.8-.78.8-2.07 0-2.86zM5.41 20L4 18.59l7.72-7.72 1.47 1.35L5.41 20z\"/>\n",
       "  </svg>\n",
       "      </button>\n",
       "      \n",
       "  <style>\n",
       "    .colab-df-container {\n",
       "      display:flex;\n",
       "      flex-wrap:wrap;\n",
       "      gap: 12px;\n",
       "    }\n",
       "\n",
       "    .colab-df-convert {\n",
       "      background-color: #E8F0FE;\n",
       "      border: none;\n",
       "      border-radius: 50%;\n",
       "      cursor: pointer;\n",
       "      display: none;\n",
       "      fill: #1967D2;\n",
       "      height: 32px;\n",
       "      padding: 0 0 0 0;\n",
       "      width: 32px;\n",
       "    }\n",
       "\n",
       "    .colab-df-convert:hover {\n",
       "      background-color: #E2EBFA;\n",
       "      box-shadow: 0px 1px 2px rgba(60, 64, 67, 0.3), 0px 1px 3px 1px rgba(60, 64, 67, 0.15);\n",
       "      fill: #174EA6;\n",
       "    }\n",
       "\n",
       "    [theme=dark] .colab-df-convert {\n",
       "      background-color: #3B4455;\n",
       "      fill: #D2E3FC;\n",
       "    }\n",
       "\n",
       "    [theme=dark] .colab-df-convert:hover {\n",
       "      background-color: #434B5C;\n",
       "      box-shadow: 0px 1px 3px 1px rgba(0, 0, 0, 0.15);\n",
       "      filter: drop-shadow(0px 1px 2px rgba(0, 0, 0, 0.3));\n",
       "      fill: #FFFFFF;\n",
       "    }\n",
       "  </style>\n",
       "\n",
       "      <script>\n",
       "        const buttonEl =\n",
       "          document.querySelector('#df-b8579f36-d4e1-4332-aef7-e6eaa546ada7 button.colab-df-convert');\n",
       "        buttonEl.style.display =\n",
       "          google.colab.kernel.accessAllowed ? 'block' : 'none';\n",
       "\n",
       "        async function convertToInteractive(key) {\n",
       "          const element = document.querySelector('#df-b8579f36-d4e1-4332-aef7-e6eaa546ada7');\n",
       "          const dataTable =\n",
       "            await google.colab.kernel.invokeFunction('convertToInteractive',\n",
       "                                                     [key], {});\n",
       "          if (!dataTable) return;\n",
       "\n",
       "          const docLinkHtml = 'Like what you see? Visit the ' +\n",
       "            '<a target=\"_blank\" href=https://colab.research.google.com/notebooks/data_table.ipynb>data table notebook</a>'\n",
       "            + ' to learn more about interactive tables.';\n",
       "          element.innerHTML = '';\n",
       "          dataTable['output_type'] = 'display_data';\n",
       "          await google.colab.output.renderOutput(dataTable, element);\n",
       "          const docLink = document.createElement('div');\n",
       "          docLink.innerHTML = docLinkHtml;\n",
       "          element.appendChild(docLink);\n",
       "        }\n",
       "      </script>\n",
       "    </div>\n",
       "  </div>\n",
       "  "
      ],
      "text/plain": [
       "     age mefalsepause tumor-size inv-falsedes falsede-caps  deg-malig breast  \\\n",
       "0  40-49   premefalse      15-19          0-2         True          3  right   \n",
       "1  50-59         ge40      15-19          0-2        False          1  right   \n",
       "2  50-59         ge40      35-39          0-2        False          2   left   \n",
       "3  40-49   premefalse      35-39          0-2         True          3  right   \n",
       "4  40-49   premefalse      30-34          3-5         True          2   left   \n",
       "5  50-59   premefalse      25-29          3-5        False          2  right   \n",
       "6  50-59         ge40      40-44          0-2        False          3   left   \n",
       "7  40-49   premefalse      10-14          0-2        False          2   left   \n",
       "8  40-49   premefalse        0-4          0-2        False          2  right   \n",
       "9  40-49         ge40      40-44        15-17         True          2  right   \n",
       "\n",
       "  breast-quad  irradiat                    class  \n",
       "0     left_up     False        recurrence-events  \n",
       "1     central     False  false-recurrence-events  \n",
       "2    left_low     False        recurrence-events  \n",
       "3    left_low      True  false-recurrence-events  \n",
       "4    right_up     False        recurrence-events  \n",
       "5     left_up      True  false-recurrence-events  \n",
       "6     left_up     False  false-recurrence-events  \n",
       "7     left_up     False  false-recurrence-events  \n",
       "8   right_low     False  false-recurrence-events  \n",
       "9     left_up      True  false-recurrence-events  "
      ]
     },
     "execution_count": 2,
     "metadata": {},
     "output_type": "execute_result"
    }
   ],
   "source": [
    "dataset = pd.read_csv('https://raw.githubusercontent.com/datasets/breast-cancer/master/data/breast-cancer.csv')\n",
    "dataset.head(10)"
   ]
  },
  {
   "cell_type": "markdown",
   "metadata": {
    "id": "nqEttZOZ__Pe"
   },
   "source": [
    "### Preprocessing / Normalisasi Data"
   ]
  },
  {
   "cell_type": "markdown",
   "metadata": {
    "id": "EnQoBv5DASo1"
   },
   "source": [
    "Pada langkah ini, dilakukan preprocessing untuk mengubah nilai- nilai kategorikal menjadi numerik .\n",
    "\n",
    "Dengan mengimport class LabelEncoder dari library Scikit-learn (sklearn.preprocessing) dan menginisialisasi objek LabelEncoder dengan nama variabel 'le'.\n",
    "\n",
    "Selanjutnya, dataset yang sudah dimuat sebelumnya diterapkan transformasi label encoding dengan memanggil method 'fit_transform' dari objek LabelEncoder pada setiap kolomnya.\n",
    "\n",
    "Transformasi label encoding mengubah nilai-nilai kategorikal menjadi nilai numerik diskrit. "
   ]
  },
  {
   "cell_type": "code",
   "execution_count": 3,
   "metadata": {
    "executionInfo": {
     "elapsed": 432,
     "status": "ok",
     "timestamp": 1680511269452,
     "user": {
      "displayName": "21-182 DESTI FITROTUN NISA",
      "userId": "06543826639552767966"
     },
     "user_tz": -420
    },
    "id": "1UigOtdzfiiR"
   },
   "outputs": [],
   "source": [
    "from sklearn.preprocessing import LabelEncoder\n",
    "le = LabelEncoder()\n",
    "dataset = dataset.apply(le.fit_transform)"
   ]
  },
  {
   "cell_type": "code",
   "execution_count": 4,
   "metadata": {
    "colab": {
     "base_uri": "https://localhost:8080/"
    },
    "executionInfo": {
     "elapsed": 1093,
     "status": "ok",
     "timestamp": 1680511273338,
     "user": {
      "displayName": "21-182 DESTI FITROTUN NISA",
      "userId": "06543826639552767966"
     },
     "user_tz": -420
    },
    "id": "DrxHZ-1MgJ8z",
    "outputId": "de00039f-c31b-4834-d921-5e1cf7159491"
   },
   "outputs": [
    {
     "name": "stdout",
     "output_type": "stream",
     "text": [
      "   age  mefalsepause  tumor-size  inv-falsedes  falsede-caps  deg-malig  \\\n",
      "0    2             2           2             0             1          2   \n",
      "1    3             0           2             0             0          0   \n",
      "2    3             0           6             0             0          1   \n",
      "3    2             2           6             0             1          2   \n",
      "4    2             2           5             4             1          1   \n",
      "\n",
      "   breast  breast-quad  irradiat  class  \n",
      "0       1            2         0      1  \n",
      "1       1            0         0      0  \n",
      "2       0            1         0      1  \n",
      "3       1            1         1      0  \n",
      "4       0            4         0      1  \n"
     ]
    }
   ],
   "source": [
    "print(dataset.head())"
   ]
  },
  {
   "cell_type": "markdown",
   "metadata": {
    "id": "nNvcU4IuBQEz"
   },
   "source": [
    "Masih dalam tahap preprocessing untuk mengubah nilai- nilai numerik dalam dataset menjadi nilai yang berkisar antara 0 dan 1.\n",
    "\n",
    "Dengan mengimport class MinMaxScaler dari library Scikit-learn (sklearn.preprocessing) dan menginisialisasi objek MinMaxScaler dengan nama variabel 'sc'.\n",
    "\n",
    "Selanjutnya, dataset yang sudah dimuat sebelumnya diubah menggunakan transformasi Min-Max Scaling dengan memanggil method 'fit_transform' dari objek MinMaxScaler pada dataset.\n",
    "\n",
    "Transformasi Min-Max Scaling adalah sebuah teknik preprocessing data yang sering digunakan untuk menormalkan nilai-nilai numerik dari suatu dataset agar memiliki rentang nilai yang sama (biasanya rentang 0 hingga 1). \n",
    "\n",
    "kemudian variabel 'dataset' diubah nilainya setelah dilakukan transformasi Min-Max Scaling sehingga nilainya sudah dinormalisasi dan berskala seragam antar fitur yang ada di dalamnya."
   ]
  },
  {
   "cell_type": "code",
   "execution_count": 5,
   "metadata": {
    "executionInfo": {
     "elapsed": 419,
     "status": "ok",
     "timestamp": 1680511278330,
     "user": {
      "displayName": "21-182 DESTI FITROTUN NISA",
      "userId": "06543826639552767966"
     },
     "user_tz": -420
    },
    "id": "YsqL6tVvgiTJ"
   },
   "outputs": [],
   "source": [
    "from sklearn.preprocessing import MinMaxScaler\n",
    "sc = MinMaxScaler()\n",
    "dataset = sc.fit_transform(dataset)"
   ]
  },
  {
   "cell_type": "code",
   "execution_count": 6,
   "metadata": {
    "colab": {
     "base_uri": "https://localhost:8080/"
    },
    "executionInfo": {
     "elapsed": 20,
     "status": "ok",
     "timestamp": 1680511280803,
     "user": {
      "displayName": "21-182 DESTI FITROTUN NISA",
      "userId": "06543826639552767966"
     },
     "user_tz": -420
    },
    "id": "2dYCA5A0CldN",
    "outputId": "01961614-3767-4fda-e78f-383c465471f5"
   },
   "outputs": [
    {
     "name": "stdout",
     "output_type": "stream",
     "text": [
      "[[0.4 1.  0.2 ... 0.4 0.  1. ]\n",
      " [0.6 0.  0.2 ... 0.  0.  0. ]\n",
      " [0.6 0.  0.6 ... 0.2 0.  1. ]\n",
      " ...\n",
      " [0.2 1.  0.5 ... 0.8 0.  0. ]\n",
      " [0.6 1.  0.2 ... 0.2 0.  0. ]\n",
      " [0.6 0.  0.7 ... 0.8 0.  0. ]]\n"
     ]
    }
   ],
   "source": [
    "print(dataset)"
   ]
  },
  {
   "cell_type": "markdown",
   "metadata": {
    "id": "3Of91wPuDobj"
   },
   "source": [
    "### Split Data"
   ]
  },
  {
   "cell_type": "markdown",
   "metadata": {
    "id": "dLU0ipb_Diqj"
   },
   "source": [
    "\n",
    "Pada tahap ini dataset dibagi menggunakan fungsi train_test_split, yang berguna untuk membagi dataset menjadi data latih dan data uji. Fungsi ini digunakan untuk membagi dataset menjadi data latih dan data uji secara acak, sehingga data latih dan data uji dapat merepresentasikan dataset secara keseluruhan.\n",
    "\n",
    "Pada baris kedua dan ketiga, variabel independen (X) dan variabel dependen (y) diinisialisasi dengan slicing dari dataset. Slicing dilakukan untuk memilih kolom-kolom dari dataset, di mana ':' menunjukkan semua baris dan '-1' menunjukkan kolom terakhir.\n",
    "\n"
   ]
  },
  {
   "cell_type": "code",
   "execution_count": 7,
   "metadata": {
    "executionInfo": {
     "elapsed": 581,
     "status": "ok",
     "timestamp": 1680511285418,
     "user": {
      "displayName": "21-182 DESTI FITROTUN NISA",
      "userId": "06543826639552767966"
     },
     "user_tz": -420
    },
    "id": "zpiazYiUC1Kq"
   },
   "outputs": [],
   "source": [
    "from sklearn.model_selection import train_test_split\n",
    "X = dataset[: , :-1]\n",
    "y = dataset[: , -1]"
   ]
  },
  {
   "cell_type": "markdown",
   "metadata": {
    "id": "2pntuoayFuAr"
   },
   "source": [
    "pada tahap selanjutnya merupakan implementasi dari fungsi train_test_split dari library Scikit-learn (sklearn.model_selection) untuk membagi dataset menjadi data latih dan data uji.\n",
    "\n",
    "Variabel X_train dan y_train akan berisi data latih (training set) yang akan digunakan untuk melatih model.\n",
    "Variabel X_test dan y_test akan berisi data uji (test set) yang akan digunakan untuk menguji kinerja model pada data yang belum pernah dilihat sebelumnya.\n",
    "\n",
    "Argumen 'test_size' pada fungsi train_test_split digunakan untuk menentukan proporsi dari data yang akan diambil sebagai data uji. Pada Code ini data uji akan diambil sebesar 30% dari seluruh dataset.\n",
    "\n",
    "Argumen 'random_state' digunakan untuk menentukan nilai seed (nilai awal) untuk proses pengacakan data yang dilakukan oleh fungsi train_test_split. Pada code ini di-set sebagai 42, yang artinya setiap kali fungsi train_test_split dijalankan dengan nilai 'random_state' yang sama, data akan diacak dengan cara yang sama dan menghasilkan data latih dan data uji yang sama pula."
   ]
  },
  {
   "cell_type": "code",
   "execution_count": 8,
   "metadata": {
    "executionInfo": {
     "elapsed": 506,
     "status": "ok",
     "timestamp": 1680511290375,
     "user": {
      "displayName": "21-182 DESTI FITROTUN NISA",
      "userId": "06543826639552767966"
     },
     "user_tz": -420
    },
    "id": "3WpOfsrGC2UH"
   },
   "outputs": [],
   "source": [
    "X_train, X_test, y_train, y_test = train_test_split(X,y, test_size = 0.3 , random_state = 42)"
   ]
  },
  {
   "cell_type": "markdown",
   "metadata": {
    "id": "-vofb-r5G0B3"
   },
   "source": [
    "### Training Data"
   ]
  },
  {
   "cell_type": "markdown",
   "metadata": {
    "id": "nHboc6HlICbe"
   },
   "source": [
    "Tahap ini merupakan tahapan training untuk melakukan prediksi pada data uji, dengan mengimport kelas GaussianNB dari library Scikit-learn (sklearn.naive_bayes) dan membuat objek GNB dari kelas GaussianNB.\n",
    "\n",
    "Kemudian, fungsi fit() dipanggil pada objek GNB yang telah dibuat dengan parameter X_train dan y_train, yaitu data latih (variabel independen dan dependen) yang digunakan untuk melatih model.\n",
    "\n",
    "Setelah melakukan training, model GNB dapat digunakan untuk melakukan prediksi pada data uji."
   ]
  },
  {
   "cell_type": "code",
   "execution_count": 9,
   "metadata": {
    "colab": {
     "base_uri": "https://localhost:8080/",
     "height": 74
    },
    "executionInfo": {
     "elapsed": 488,
     "status": "ok",
     "timestamp": 1680511316667,
     "user": {
      "displayName": "21-182 DESTI FITROTUN NISA",
      "userId": "06543826639552767966"
     },
     "user_tz": -420
    },
    "id": "yc31_Ma2C6S4",
    "outputId": "553d099d-fea9-439e-814e-ad210a984a8d"
   },
   "outputs": [
    {
     "data": {
      "text/html": [
       "<style>#sk-container-id-1 {color: black;background-color: white;}#sk-container-id-1 pre{padding: 0;}#sk-container-id-1 div.sk-toggleable {background-color: white;}#sk-container-id-1 label.sk-toggleable__label {cursor: pointer;display: block;width: 100%;margin-bottom: 0;padding: 0.3em;box-sizing: border-box;text-align: center;}#sk-container-id-1 label.sk-toggleable__label-arrow:before {content: \"▸\";float: left;margin-right: 0.25em;color: #696969;}#sk-container-id-1 label.sk-toggleable__label-arrow:hover:before {color: black;}#sk-container-id-1 div.sk-estimator:hover label.sk-toggleable__label-arrow:before {color: black;}#sk-container-id-1 div.sk-toggleable__content {max-height: 0;max-width: 0;overflow: hidden;text-align: left;background-color: #f0f8ff;}#sk-container-id-1 div.sk-toggleable__content pre {margin: 0.2em;color: black;border-radius: 0.25em;background-color: #f0f8ff;}#sk-container-id-1 input.sk-toggleable__control:checked~div.sk-toggleable__content {max-height: 200px;max-width: 100%;overflow: auto;}#sk-container-id-1 input.sk-toggleable__control:checked~label.sk-toggleable__label-arrow:before {content: \"▾\";}#sk-container-id-1 div.sk-estimator input.sk-toggleable__control:checked~label.sk-toggleable__label {background-color: #d4ebff;}#sk-container-id-1 div.sk-label input.sk-toggleable__control:checked~label.sk-toggleable__label {background-color: #d4ebff;}#sk-container-id-1 input.sk-hidden--visually {border: 0;clip: rect(1px 1px 1px 1px);clip: rect(1px, 1px, 1px, 1px);height: 1px;margin: -1px;overflow: hidden;padding: 0;position: absolute;width: 1px;}#sk-container-id-1 div.sk-estimator {font-family: monospace;background-color: #f0f8ff;border: 1px dotted black;border-radius: 0.25em;box-sizing: border-box;margin-bottom: 0.5em;}#sk-container-id-1 div.sk-estimator:hover {background-color: #d4ebff;}#sk-container-id-1 div.sk-parallel-item::after {content: \"\";width: 100%;border-bottom: 1px solid gray;flex-grow: 1;}#sk-container-id-1 div.sk-label:hover label.sk-toggleable__label {background-color: #d4ebff;}#sk-container-id-1 div.sk-serial::before {content: \"\";position: absolute;border-left: 1px solid gray;box-sizing: border-box;top: 0;bottom: 0;left: 50%;z-index: 0;}#sk-container-id-1 div.sk-serial {display: flex;flex-direction: column;align-items: center;background-color: white;padding-right: 0.2em;padding-left: 0.2em;position: relative;}#sk-container-id-1 div.sk-item {position: relative;z-index: 1;}#sk-container-id-1 div.sk-parallel {display: flex;align-items: stretch;justify-content: center;background-color: white;position: relative;}#sk-container-id-1 div.sk-item::before, #sk-container-id-1 div.sk-parallel-item::before {content: \"\";position: absolute;border-left: 1px solid gray;box-sizing: border-box;top: 0;bottom: 0;left: 50%;z-index: -1;}#sk-container-id-1 div.sk-parallel-item {display: flex;flex-direction: column;z-index: 1;position: relative;background-color: white;}#sk-container-id-1 div.sk-parallel-item:first-child::after {align-self: flex-end;width: 50%;}#sk-container-id-1 div.sk-parallel-item:last-child::after {align-self: flex-start;width: 50%;}#sk-container-id-1 div.sk-parallel-item:only-child::after {width: 0;}#sk-container-id-1 div.sk-dashed-wrapped {border: 1px dashed gray;margin: 0 0.4em 0.5em 0.4em;box-sizing: border-box;padding-bottom: 0.4em;background-color: white;}#sk-container-id-1 div.sk-label label {font-family: monospace;font-weight: bold;display: inline-block;line-height: 1.2em;}#sk-container-id-1 div.sk-label-container {text-align: center;}#sk-container-id-1 div.sk-container {/* jupyter's `normalize.less` sets `[hidden] { display: none; }` but bootstrap.min.css set `[hidden] { display: none !important; }` so we also need the `!important` here to be able to override the default hidden behavior on the sphinx rendered scikit-learn.org. See: https://github.com/scikit-learn/scikit-learn/issues/21755 */display: inline-block !important;position: relative;}#sk-container-id-1 div.sk-text-repr-fallback {display: none;}</style><div id=\"sk-container-id-1\" class=\"sk-top-container\"><div class=\"sk-text-repr-fallback\"><pre>GaussianNB()</pre><b>In a Jupyter environment, please rerun this cell to show the HTML representation or trust the notebook. <br />On GitHub, the HTML representation is unable to render, please try loading this page with nbviewer.org.</b></div><div class=\"sk-container\" hidden><div class=\"sk-item\"><div class=\"sk-estimator sk-toggleable\"><input class=\"sk-toggleable__control sk-hidden--visually\" id=\"sk-estimator-id-1\" type=\"checkbox\" checked><label for=\"sk-estimator-id-1\" class=\"sk-toggleable__label sk-toggleable__label-arrow\">GaussianNB</label><div class=\"sk-toggleable__content\"><pre>GaussianNB()</pre></div></div></div></div></div>"
      ],
      "text/plain": [
       "GaussianNB()"
      ]
     },
     "execution_count": 9,
     "metadata": {},
     "output_type": "execute_result"
    }
   ],
   "source": [
    "from sklearn.naive_bayes import GaussianNB\n",
    "GNB = GaussianNB()\n",
    "GNB.fit(X_train,y_train)"
   ]
  },
  {
   "cell_type": "markdown",
   "metadata": {
    "id": "LBC4isAbHG4H"
   },
   "source": [
    "### Predict"
   ]
  },
  {
   "cell_type": "code",
   "execution_count": 10,
   "metadata": {
    "executionInfo": {
     "elapsed": 455,
     "status": "ok",
     "timestamp": 1680511321909,
     "user": {
      "displayName": "21-182 DESTI FITROTUN NISA",
      "userId": "06543826639552767966"
     },
     "user_tz": -420
    },
    "id": "_KVyt9RYDDh_"
   },
   "outputs": [],
   "source": [
    "y_pred = GNB.predict(X_test)"
   ]
  },
  {
   "cell_type": "markdown",
   "metadata": {
    "id": "U_U8libvI-FZ"
   },
   "source": [
    "Fungsi predict() pada objek GNB digunakan untuk melakukan prediksi kelas pada variabel dependen (y) pada data uji (X_test). Hasil prediksi tersebut disimpan pada variabel y_pred.\n",
    "\n",
    "Tujuannya adalah untuk mengevaluasi sejauh mana model dapat memprediksi kelas dengan benar pada data yang belum pernah dilihat sebelumnya."
   ]
  },
  {
   "cell_type": "markdown",
   "metadata": {
    "id": "t63JaBwhHJea"
   },
   "source": [
    "### Accuracy"
   ]
  },
  {
   "cell_type": "markdown",
   "metadata": {
    "id": "OtHm4O_rJidI"
   },
   "source": [
    "Fungsi accuracy_score() akan menghitung jumlah prediksi yang benar dan membaginya dengan jumlah total data uji untuk mendapatkan nilai akurasi. Akurasi adalah metrik evaluasi yang digunakan untuk mengukur seberapa akurat model dalam memprediksi kelas pada data uji.\n",
    "\n",
    "Dalam hal ini, nilai akurasi yang dihasilkan akan disimpan pada variabel ac,semakin tinggi nilai akurasi, semakin baik kinerja model.\n"
   ]
  },
  {
   "cell_type": "code",
   "execution_count": 11,
   "metadata": {
    "executionInfo": {
     "elapsed": 583,
     "status": "ok",
     "timestamp": 1680511327831,
     "user": {
      "displayName": "21-182 DESTI FITROTUN NISA",
      "userId": "06543826639552767966"
     },
     "user_tz": -420
    },
    "id": "FYQtuBQWDHbJ"
   },
   "outputs": [],
   "source": [
    "from sklearn.metrics import accuracy_score\n",
    "ac = accuracy_score(y_test,y_pred)"
   ]
  },
  {
   "cell_type": "code",
   "execution_count": 12,
   "metadata": {
    "colab": {
     "base_uri": "https://localhost:8080/"
    },
    "executionInfo": {
     "elapsed": 31,
     "status": "ok",
     "timestamp": 1680511331010,
     "user": {
      "displayName": "21-182 DESTI FITROTUN NISA",
      "userId": "06543826639552767966"
     },
     "user_tz": -420
    },
    "id": "kTQOCjKrDKjN",
    "outputId": "b2de3fe5-9a3c-42e3-d1b7-9f3166c89fdd"
   },
   "outputs": [
    {
     "name": "stdout",
     "output_type": "stream",
     "text": [
      "Accuracy Score : 0.7195121951219512\n"
     ]
    }
   ],
   "source": [
    "print('Accuracy Score :', ac)"
   ]
  },
  {
   "cell_type": "markdown",
   "metadata": {
    "id": "qBOHKWIlKMVQ"
   },
   "source": [
    "## Klasifikasi Data dengan KNN"
   ]
  },
  {
   "cell_type": "markdown",
   "metadata": {
    "id": "8kwvUb5KLoC6"
   },
   "source": [
    "### Import Library"
   ]
  },
  {
   "cell_type": "markdown",
   "metadata": {
    "id": "DlsOUsE_NrHo"
   },
   "source": [
    "Langkah pertama, yaitu import Library yang akan digunakan dimana menggunakan Library Pandas dan Scikit-learn agar nantinya dapat memanfaatkan berbagai fungsi dan algoritma yang disediakan library - library tersebut. Sehingga dapat membantu proses analisis dan pemodelan data secara lebih efisien dan mudah.\n",
    "\n",
    "Pandas adalah library Python yang menyediakan struktur data yang efisien dan mudah digunakan untuk melakukan manipulasi data dalam format tabel, termasuk membaca dan menulis data dari/ke berbagai format file seperti CSV, Excel, SQL, dan lain-lain.\n",
    "\n",
    "Scikit-learn adalah library Python yang populer digunakan untuk machine learning. Modul ini menyediakan algoritma dan fungsi untuk melakukan preprocessing data, pemilihan model, pelatihan model, evaluasi model, dan sebagainya."
   ]
  },
  {
   "cell_type": "code",
   "execution_count": 13,
   "metadata": {
    "executionInfo": {
     "elapsed": 767,
     "status": "ok",
     "timestamp": 1680511338147,
     "user": {
      "displayName": "21-182 DESTI FITROTUN NISA",
      "userId": "06543826639552767966"
     },
     "user_tz": -420
    },
    "id": "TN7RkrQdKhlH"
   },
   "outputs": [],
   "source": [
    "import pandas as pd\n",
    "import sklearn"
   ]
  },
  {
   "cell_type": "markdown",
   "metadata": {
    "id": "1R1m1m5ALxc1"
   },
   "source": [
    "### Import Dataset"
   ]
  },
  {
   "cell_type": "markdown",
   "metadata": {
    "id": "ejiz82VqNzyD"
   },
   "source": [
    "Langkah kedua yaitu Import Dataset yang tersimpan dalam repositori pada Github dimana data tersebut berupa data breast-cancer dengan format file CSV.\n",
    "\n",
    "\"pd.read_csv\" yaitu untuk membaca file CSV yang ada di repositpri Github dan menyimpannya ke dalam variabel data. kemudian \"dataset.head(10)\" digunakan untuk menampilkan sepuluh baris pertama dari dataset, sehingga pengguna dapat melihat secara ringkas isi dataset tersebut."
   ]
  },
  {
   "cell_type": "code",
   "execution_count": 14,
   "metadata": {
    "colab": {
     "base_uri": "https://localhost:8080/",
     "height": 363
    },
    "executionInfo": {
     "elapsed": 1149,
     "status": "ok",
     "timestamp": 1680511343797,
     "user": {
      "displayName": "21-182 DESTI FITROTUN NISA",
      "userId": "06543826639552767966"
     },
     "user_tz": -420
    },
    "id": "vEAuu9oiKi_t",
    "outputId": "051ffed2-1bd7-4d25-e1f8-fa4d010ead84"
   },
   "outputs": [
    {
     "data": {
      "text/html": [
       "\n",
       "  <div id=\"df-e098050b-01a9-40be-822f-e7612f6c3750\">\n",
       "    <div class=\"colab-df-container\">\n",
       "      <div>\n",
       "<style scoped>\n",
       "    .dataframe tbody tr th:only-of-type {\n",
       "        vertical-align: middle;\n",
       "    }\n",
       "\n",
       "    .dataframe tbody tr th {\n",
       "        vertical-align: top;\n",
       "    }\n",
       "\n",
       "    .dataframe thead th {\n",
       "        text-align: right;\n",
       "    }\n",
       "</style>\n",
       "<table border=\"1\" class=\"dataframe\">\n",
       "  <thead>\n",
       "    <tr style=\"text-align: right;\">\n",
       "      <th></th>\n",
       "      <th>age</th>\n",
       "      <th>mefalsepause</th>\n",
       "      <th>tumor-size</th>\n",
       "      <th>inv-falsedes</th>\n",
       "      <th>falsede-caps</th>\n",
       "      <th>deg-malig</th>\n",
       "      <th>breast</th>\n",
       "      <th>breast-quad</th>\n",
       "      <th>irradiat</th>\n",
       "      <th>class</th>\n",
       "    </tr>\n",
       "  </thead>\n",
       "  <tbody>\n",
       "    <tr>\n",
       "      <th>0</th>\n",
       "      <td>40-49</td>\n",
       "      <td>premefalse</td>\n",
       "      <td>15-19</td>\n",
       "      <td>0-2</td>\n",
       "      <td>True</td>\n",
       "      <td>3</td>\n",
       "      <td>right</td>\n",
       "      <td>left_up</td>\n",
       "      <td>False</td>\n",
       "      <td>recurrence-events</td>\n",
       "    </tr>\n",
       "    <tr>\n",
       "      <th>1</th>\n",
       "      <td>50-59</td>\n",
       "      <td>ge40</td>\n",
       "      <td>15-19</td>\n",
       "      <td>0-2</td>\n",
       "      <td>False</td>\n",
       "      <td>1</td>\n",
       "      <td>right</td>\n",
       "      <td>central</td>\n",
       "      <td>False</td>\n",
       "      <td>false-recurrence-events</td>\n",
       "    </tr>\n",
       "    <tr>\n",
       "      <th>2</th>\n",
       "      <td>50-59</td>\n",
       "      <td>ge40</td>\n",
       "      <td>35-39</td>\n",
       "      <td>0-2</td>\n",
       "      <td>False</td>\n",
       "      <td>2</td>\n",
       "      <td>left</td>\n",
       "      <td>left_low</td>\n",
       "      <td>False</td>\n",
       "      <td>recurrence-events</td>\n",
       "    </tr>\n",
       "    <tr>\n",
       "      <th>3</th>\n",
       "      <td>40-49</td>\n",
       "      <td>premefalse</td>\n",
       "      <td>35-39</td>\n",
       "      <td>0-2</td>\n",
       "      <td>True</td>\n",
       "      <td>3</td>\n",
       "      <td>right</td>\n",
       "      <td>left_low</td>\n",
       "      <td>True</td>\n",
       "      <td>false-recurrence-events</td>\n",
       "    </tr>\n",
       "    <tr>\n",
       "      <th>4</th>\n",
       "      <td>40-49</td>\n",
       "      <td>premefalse</td>\n",
       "      <td>30-34</td>\n",
       "      <td>3-5</td>\n",
       "      <td>True</td>\n",
       "      <td>2</td>\n",
       "      <td>left</td>\n",
       "      <td>right_up</td>\n",
       "      <td>False</td>\n",
       "      <td>recurrence-events</td>\n",
       "    </tr>\n",
       "    <tr>\n",
       "      <th>5</th>\n",
       "      <td>50-59</td>\n",
       "      <td>premefalse</td>\n",
       "      <td>25-29</td>\n",
       "      <td>3-5</td>\n",
       "      <td>False</td>\n",
       "      <td>2</td>\n",
       "      <td>right</td>\n",
       "      <td>left_up</td>\n",
       "      <td>True</td>\n",
       "      <td>false-recurrence-events</td>\n",
       "    </tr>\n",
       "    <tr>\n",
       "      <th>6</th>\n",
       "      <td>50-59</td>\n",
       "      <td>ge40</td>\n",
       "      <td>40-44</td>\n",
       "      <td>0-2</td>\n",
       "      <td>False</td>\n",
       "      <td>3</td>\n",
       "      <td>left</td>\n",
       "      <td>left_up</td>\n",
       "      <td>False</td>\n",
       "      <td>false-recurrence-events</td>\n",
       "    </tr>\n",
       "    <tr>\n",
       "      <th>7</th>\n",
       "      <td>40-49</td>\n",
       "      <td>premefalse</td>\n",
       "      <td>10-14</td>\n",
       "      <td>0-2</td>\n",
       "      <td>False</td>\n",
       "      <td>2</td>\n",
       "      <td>left</td>\n",
       "      <td>left_up</td>\n",
       "      <td>False</td>\n",
       "      <td>false-recurrence-events</td>\n",
       "    </tr>\n",
       "    <tr>\n",
       "      <th>8</th>\n",
       "      <td>40-49</td>\n",
       "      <td>premefalse</td>\n",
       "      <td>0-4</td>\n",
       "      <td>0-2</td>\n",
       "      <td>False</td>\n",
       "      <td>2</td>\n",
       "      <td>right</td>\n",
       "      <td>right_low</td>\n",
       "      <td>False</td>\n",
       "      <td>false-recurrence-events</td>\n",
       "    </tr>\n",
       "    <tr>\n",
       "      <th>9</th>\n",
       "      <td>40-49</td>\n",
       "      <td>ge40</td>\n",
       "      <td>40-44</td>\n",
       "      <td>15-17</td>\n",
       "      <td>True</td>\n",
       "      <td>2</td>\n",
       "      <td>right</td>\n",
       "      <td>left_up</td>\n",
       "      <td>True</td>\n",
       "      <td>false-recurrence-events</td>\n",
       "    </tr>\n",
       "  </tbody>\n",
       "</table>\n",
       "</div>\n",
       "      <button class=\"colab-df-convert\" onclick=\"convertToInteractive('df-e098050b-01a9-40be-822f-e7612f6c3750')\"\n",
       "              title=\"Convert this dataframe to an interactive table.\"\n",
       "              style=\"display:none;\">\n",
       "        \n",
       "  <svg xmlns=\"http://www.w3.org/2000/svg\" height=\"24px\"viewBox=\"0 0 24 24\"\n",
       "       width=\"24px\">\n",
       "    <path d=\"M0 0h24v24H0V0z\" fill=\"none\"/>\n",
       "    <path d=\"M18.56 5.44l.94 2.06.94-2.06 2.06-.94-2.06-.94-.94-2.06-.94 2.06-2.06.94zm-11 1L8.5 8.5l.94-2.06 2.06-.94-2.06-.94L8.5 2.5l-.94 2.06-2.06.94zm10 10l.94 2.06.94-2.06 2.06-.94-2.06-.94-.94-2.06-.94 2.06-2.06.94z\"/><path d=\"M17.41 7.96l-1.37-1.37c-.4-.4-.92-.59-1.43-.59-.52 0-1.04.2-1.43.59L10.3 9.45l-7.72 7.72c-.78.78-.78 2.05 0 2.83L4 21.41c.39.39.9.59 1.41.59.51 0 1.02-.2 1.41-.59l7.78-7.78 2.81-2.81c.8-.78.8-2.07 0-2.86zM5.41 20L4 18.59l7.72-7.72 1.47 1.35L5.41 20z\"/>\n",
       "  </svg>\n",
       "      </button>\n",
       "      \n",
       "  <style>\n",
       "    .colab-df-container {\n",
       "      display:flex;\n",
       "      flex-wrap:wrap;\n",
       "      gap: 12px;\n",
       "    }\n",
       "\n",
       "    .colab-df-convert {\n",
       "      background-color: #E8F0FE;\n",
       "      border: none;\n",
       "      border-radius: 50%;\n",
       "      cursor: pointer;\n",
       "      display: none;\n",
       "      fill: #1967D2;\n",
       "      height: 32px;\n",
       "      padding: 0 0 0 0;\n",
       "      width: 32px;\n",
       "    }\n",
       "\n",
       "    .colab-df-convert:hover {\n",
       "      background-color: #E2EBFA;\n",
       "      box-shadow: 0px 1px 2px rgba(60, 64, 67, 0.3), 0px 1px 3px 1px rgba(60, 64, 67, 0.15);\n",
       "      fill: #174EA6;\n",
       "    }\n",
       "\n",
       "    [theme=dark] .colab-df-convert {\n",
       "      background-color: #3B4455;\n",
       "      fill: #D2E3FC;\n",
       "    }\n",
       "\n",
       "    [theme=dark] .colab-df-convert:hover {\n",
       "      background-color: #434B5C;\n",
       "      box-shadow: 0px 1px 3px 1px rgba(0, 0, 0, 0.15);\n",
       "      filter: drop-shadow(0px 1px 2px rgba(0, 0, 0, 0.3));\n",
       "      fill: #FFFFFF;\n",
       "    }\n",
       "  </style>\n",
       "\n",
       "      <script>\n",
       "        const buttonEl =\n",
       "          document.querySelector('#df-e098050b-01a9-40be-822f-e7612f6c3750 button.colab-df-convert');\n",
       "        buttonEl.style.display =\n",
       "          google.colab.kernel.accessAllowed ? 'block' : 'none';\n",
       "\n",
       "        async function convertToInteractive(key) {\n",
       "          const element = document.querySelector('#df-e098050b-01a9-40be-822f-e7612f6c3750');\n",
       "          const dataTable =\n",
       "            await google.colab.kernel.invokeFunction('convertToInteractive',\n",
       "                                                     [key], {});\n",
       "          if (!dataTable) return;\n",
       "\n",
       "          const docLinkHtml = 'Like what you see? Visit the ' +\n",
       "            '<a target=\"_blank\" href=https://colab.research.google.com/notebooks/data_table.ipynb>data table notebook</a>'\n",
       "            + ' to learn more about interactive tables.';\n",
       "          element.innerHTML = '';\n",
       "          dataTable['output_type'] = 'display_data';\n",
       "          await google.colab.output.renderOutput(dataTable, element);\n",
       "          const docLink = document.createElement('div');\n",
       "          docLink.innerHTML = docLinkHtml;\n",
       "          element.appendChild(docLink);\n",
       "        }\n",
       "      </script>\n",
       "    </div>\n",
       "  </div>\n",
       "  "
      ],
      "text/plain": [
       "     age mefalsepause tumor-size inv-falsedes falsede-caps  deg-malig breast  \\\n",
       "0  40-49   premefalse      15-19          0-2         True          3  right   \n",
       "1  50-59         ge40      15-19          0-2        False          1  right   \n",
       "2  50-59         ge40      35-39          0-2        False          2   left   \n",
       "3  40-49   premefalse      35-39          0-2         True          3  right   \n",
       "4  40-49   premefalse      30-34          3-5         True          2   left   \n",
       "5  50-59   premefalse      25-29          3-5        False          2  right   \n",
       "6  50-59         ge40      40-44          0-2        False          3   left   \n",
       "7  40-49   premefalse      10-14          0-2        False          2   left   \n",
       "8  40-49   premefalse        0-4          0-2        False          2  right   \n",
       "9  40-49         ge40      40-44        15-17         True          2  right   \n",
       "\n",
       "  breast-quad  irradiat                    class  \n",
       "0     left_up     False        recurrence-events  \n",
       "1     central     False  false-recurrence-events  \n",
       "2    left_low     False        recurrence-events  \n",
       "3    left_low      True  false-recurrence-events  \n",
       "4    right_up     False        recurrence-events  \n",
       "5     left_up      True  false-recurrence-events  \n",
       "6     left_up     False  false-recurrence-events  \n",
       "7     left_up     False  false-recurrence-events  \n",
       "8   right_low     False  false-recurrence-events  \n",
       "9     left_up      True  false-recurrence-events  "
      ]
     },
     "execution_count": 14,
     "metadata": {},
     "output_type": "execute_result"
    }
   ],
   "source": [
    "data = pd.read_csv('https://raw.githubusercontent.com/datasets/breast-cancer/master/data/breast-cancer.csv')\n",
    "data.head(10)"
   ]
  },
  {
   "cell_type": "markdown",
   "metadata": {
    "id": "4VdnGtKUL3iH"
   },
   "source": [
    "### Preprocessing / Normalisasi Data"
   ]
  },
  {
   "cell_type": "markdown",
   "metadata": {
    "id": "B-Cz7aYlOB2t"
   },
   "source": [
    "Pada langkah ini, dilakukan preprocessing untuk mengubah nilai- nilai kategorikal menjadi numerik .\n",
    "\n",
    "Dengan mengimport class LabelEncoder dari library Scikit-learn (sklearn.preprocessing) dan menginisialisasi objek LabelEncoder dengan nama variabel 'le'.\n",
    "\n",
    "Selanjutnya, dataset yang sudah dimuat sebelumnya diterapkan transformasi label encoding dengan memanggil method 'fit_transform' dari objek LabelEncoder pada setiap kolomnya.\n",
    "\n",
    "Transformasi label encoding mengubah nilai-nilai kategorikal menjadi nilai numerik diskrit."
   ]
  },
  {
   "cell_type": "code",
   "execution_count": 15,
   "metadata": {
    "executionInfo": {
     "elapsed": 484,
     "status": "ok",
     "timestamp": 1680511352417,
     "user": {
      "displayName": "21-182 DESTI FITROTUN NISA",
      "userId": "06543826639552767966"
     },
     "user_tz": -420
    },
    "id": "Ep-xdN3cKizA"
   },
   "outputs": [],
   "source": [
    "from sklearn.preprocessing import LabelEncoder\n",
    "le = LabelEncoder()\n",
    "data = data.apply(le.fit_transform)"
   ]
  },
  {
   "cell_type": "code",
   "execution_count": 16,
   "metadata": {
    "colab": {
     "base_uri": "https://localhost:8080/"
    },
    "executionInfo": {
     "elapsed": 1452,
     "status": "ok",
     "timestamp": 1680511357979,
     "user": {
      "displayName": "21-182 DESTI FITROTUN NISA",
      "userId": "06543826639552767966"
     },
     "user_tz": -420
    },
    "id": "EtYW5ydfOHtm",
    "outputId": "95d751d2-4d5e-4926-a329-0e2e59ce71c0"
   },
   "outputs": [
    {
     "name": "stdout",
     "output_type": "stream",
     "text": [
      "   age  mefalsepause  tumor-size  inv-falsedes  falsede-caps  deg-malig  \\\n",
      "0    2             2           2             0             1          2   \n",
      "1    3             0           2             0             0          0   \n",
      "2    3             0           6             0             0          1   \n",
      "3    2             2           6             0             1          2   \n",
      "4    2             2           5             4             1          1   \n",
      "\n",
      "   breast  breast-quad  irradiat  class  \n",
      "0       1            2         0      1  \n",
      "1       1            0         0      0  \n",
      "2       0            1         0      1  \n",
      "3       1            1         1      0  \n",
      "4       0            4         0      1  \n"
     ]
    }
   ],
   "source": [
    "print(data.head())"
   ]
  },
  {
   "cell_type": "markdown",
   "metadata": {
    "id": "0SOS6qrAOpFL"
   },
   "source": [
    "Masih dalam tahap preprocessing untuk mengubah nilai- nilai numerik dalam dataset menjadi nilai yang berkisar antara 0 dan 1.\n",
    "\n",
    "Transformasi Min-Max Scaling adalah sebuah teknik preprocessing data yang sering digunakan untuk menormalkan nilai-nilai numerik dari suatu dataset agar memiliki rentang nilai yang sama (biasanya rentang 0 hingga 1).\n",
    "\n",
    "kemudian variabel 'data' diubah nilainya setelah dilakukan transformasi Min-Max Scaling sehingga nilainya sudah dinormalisasi dan berskala seragam antar fitur yang ada di dalamnya."
   ]
  },
  {
   "cell_type": "code",
   "execution_count": 17,
   "metadata": {
    "executionInfo": {
     "elapsed": 830,
     "status": "ok",
     "timestamp": 1680511364328,
     "user": {
      "displayName": "21-182 DESTI FITROTUN NISA",
      "userId": "06543826639552767966"
     },
     "user_tz": -420
    },
    "id": "N-qC81QWKimB"
   },
   "outputs": [],
   "source": [
    "from sklearn.preprocessing import MinMaxScaler\n",
    "scaler = MinMaxScaler()\n",
    "data = scaler.fit_transform(data)"
   ]
  },
  {
   "cell_type": "code",
   "execution_count": 18,
   "metadata": {
    "colab": {
     "base_uri": "https://localhost:8080/"
    },
    "executionInfo": {
     "elapsed": 15,
     "status": "ok",
     "timestamp": 1680511395423,
     "user": {
      "displayName": "21-182 DESTI FITROTUN NISA",
      "userId": "06543826639552767966"
     },
     "user_tz": -420
    },
    "id": "HpyumoPfSIQv",
    "outputId": "660ca709-2395-4ce4-bbf6-8cccb1383cc3"
   },
   "outputs": [
    {
     "name": "stdout",
     "output_type": "stream",
     "text": [
      "[[0.4 1.  0.2 ... 0.4 0.  1. ]\n",
      " [0.6 0.  0.2 ... 0.  0.  0. ]\n",
      " [0.6 0.  0.6 ... 0.2 0.  1. ]\n",
      " ...\n",
      " [0.2 1.  0.5 ... 0.8 0.  0. ]\n",
      " [0.6 1.  0.2 ... 0.2 0.  0. ]\n",
      " [0.6 0.  0.7 ... 0.8 0.  0. ]]\n"
     ]
    }
   ],
   "source": [
    "print(data)"
   ]
  },
  {
   "cell_type": "markdown",
   "metadata": {
    "id": "YzEShjYZMmwQ"
   },
   "source": [
    "### Split Data"
   ]
  },
  {
   "cell_type": "markdown",
   "metadata": {
    "id": "BcYPXJRcPTNH"
   },
   "source": [
    "Pada tahap ini dataset dibagi menggunakan fungsi train_test_split, yang berguna untuk membagi dataset menjadi data latih dan data uji\n",
    "\n",
    "Variabel X_train dan y_train akan berisi data latih (training set) yang akan digunakan untuk melatih model. Variabel X_test dan y_test akan berisi data uji (test set) yang akan digunakan untuk menguji kinerja model pada data yang belum pernah dilihat sebelumnya.\n",
    "\n",
    "Argumen 'test_size' pada fungsi train_test_split digunakan untuk menentukan proporsi dari data yang akan diambil sebagai data uji. Pada Code ini data uji akan diambil sebesar 20% dari seluruh data.\n",
    "\n",
    "Argumen 'random_state' digunakan untuk menentukan nilai seed (nilai awal) untuk proses pengacakan data yang dilakukan oleh fungsi train_test_split. "
   ]
  },
  {
   "cell_type": "code",
   "execution_count": 19,
   "metadata": {
    "executionInfo": {
     "elapsed": 391,
     "status": "ok",
     "timestamp": 1680511401300,
     "user": {
      "displayName": "21-182 DESTI FITROTUN NISA",
      "userId": "06543826639552767966"
     },
     "user_tz": -420
    },
    "id": "w5JBCCVrKiVT"
   },
   "outputs": [],
   "source": [
    "from sklearn.model_selection import train_test_split\n",
    "X_train, X_test, y_train, y_test = train_test_split(X, y, test_size=0.2, random_state=0)"
   ]
  },
  {
   "cell_type": "markdown",
   "metadata": {
    "id": "3kBMF-WlMxOC"
   },
   "source": [
    "### Training Data"
   ]
  },
  {
   "cell_type": "markdown",
   "metadata": {
    "id": "G-gvR70oP936"
   },
   "source": [
    "Tahap ini merupakan tahapan training untuk melakukan prediksi pada data uji, dengan mengimport kelas KNeighborsClassifier dari library Scikit-learn (sklearn.neighbors) dan membuat objek knn dari kelas tersebut.\n",
    "\n",
    "Selanjutnya, fungsi fit() dipanggil pada objek knn yang telah dibuat dengan parameter X_train dan y_train, yaitu data latih (variabel independen dan dependen) yang digunakan untuk melatih model. Pada saat pemanggilan fungsi fit(), objek knn akan mempelajari pola keterkaitan antara variabel independen dan dependen pada data latih yang telah diberikan.\n",
    "\n",
    "Setelah proses pelatihan selesai, model KNeighborsClassifier yang telah dilatih dapat digunakan untuk melakukan prediksi kelas pada data uji."
   ]
  },
  {
   "cell_type": "code",
   "execution_count": 20,
   "metadata": {
    "colab": {
     "base_uri": "https://localhost:8080/",
     "height": 74
    },
    "executionInfo": {
     "elapsed": 1040,
     "status": "ok",
     "timestamp": 1680511407031,
     "user": {
      "displayName": "21-182 DESTI FITROTUN NISA",
      "userId": "06543826639552767966"
     },
     "user_tz": -420
    },
    "id": "UpbJbHvZKiIe",
    "outputId": "a3050e0d-d9f6-45f5-d0d9-0739cd9cb1c0"
   },
   "outputs": [
    {
     "data": {
      "text/html": [
       "<style>#sk-container-id-2 {color: black;background-color: white;}#sk-container-id-2 pre{padding: 0;}#sk-container-id-2 div.sk-toggleable {background-color: white;}#sk-container-id-2 label.sk-toggleable__label {cursor: pointer;display: block;width: 100%;margin-bottom: 0;padding: 0.3em;box-sizing: border-box;text-align: center;}#sk-container-id-2 label.sk-toggleable__label-arrow:before {content: \"▸\";float: left;margin-right: 0.25em;color: #696969;}#sk-container-id-2 label.sk-toggleable__label-arrow:hover:before {color: black;}#sk-container-id-2 div.sk-estimator:hover label.sk-toggleable__label-arrow:before {color: black;}#sk-container-id-2 div.sk-toggleable__content {max-height: 0;max-width: 0;overflow: hidden;text-align: left;background-color: #f0f8ff;}#sk-container-id-2 div.sk-toggleable__content pre {margin: 0.2em;color: black;border-radius: 0.25em;background-color: #f0f8ff;}#sk-container-id-2 input.sk-toggleable__control:checked~div.sk-toggleable__content {max-height: 200px;max-width: 100%;overflow: auto;}#sk-container-id-2 input.sk-toggleable__control:checked~label.sk-toggleable__label-arrow:before {content: \"▾\";}#sk-container-id-2 div.sk-estimator input.sk-toggleable__control:checked~label.sk-toggleable__label {background-color: #d4ebff;}#sk-container-id-2 div.sk-label input.sk-toggleable__control:checked~label.sk-toggleable__label {background-color: #d4ebff;}#sk-container-id-2 input.sk-hidden--visually {border: 0;clip: rect(1px 1px 1px 1px);clip: rect(1px, 1px, 1px, 1px);height: 1px;margin: -1px;overflow: hidden;padding: 0;position: absolute;width: 1px;}#sk-container-id-2 div.sk-estimator {font-family: monospace;background-color: #f0f8ff;border: 1px dotted black;border-radius: 0.25em;box-sizing: border-box;margin-bottom: 0.5em;}#sk-container-id-2 div.sk-estimator:hover {background-color: #d4ebff;}#sk-container-id-2 div.sk-parallel-item::after {content: \"\";width: 100%;border-bottom: 1px solid gray;flex-grow: 1;}#sk-container-id-2 div.sk-label:hover label.sk-toggleable__label {background-color: #d4ebff;}#sk-container-id-2 div.sk-serial::before {content: \"\";position: absolute;border-left: 1px solid gray;box-sizing: border-box;top: 0;bottom: 0;left: 50%;z-index: 0;}#sk-container-id-2 div.sk-serial {display: flex;flex-direction: column;align-items: center;background-color: white;padding-right: 0.2em;padding-left: 0.2em;position: relative;}#sk-container-id-2 div.sk-item {position: relative;z-index: 1;}#sk-container-id-2 div.sk-parallel {display: flex;align-items: stretch;justify-content: center;background-color: white;position: relative;}#sk-container-id-2 div.sk-item::before, #sk-container-id-2 div.sk-parallel-item::before {content: \"\";position: absolute;border-left: 1px solid gray;box-sizing: border-box;top: 0;bottom: 0;left: 50%;z-index: -1;}#sk-container-id-2 div.sk-parallel-item {display: flex;flex-direction: column;z-index: 1;position: relative;background-color: white;}#sk-container-id-2 div.sk-parallel-item:first-child::after {align-self: flex-end;width: 50%;}#sk-container-id-2 div.sk-parallel-item:last-child::after {align-self: flex-start;width: 50%;}#sk-container-id-2 div.sk-parallel-item:only-child::after {width: 0;}#sk-container-id-2 div.sk-dashed-wrapped {border: 1px dashed gray;margin: 0 0.4em 0.5em 0.4em;box-sizing: border-box;padding-bottom: 0.4em;background-color: white;}#sk-container-id-2 div.sk-label label {font-family: monospace;font-weight: bold;display: inline-block;line-height: 1.2em;}#sk-container-id-2 div.sk-label-container {text-align: center;}#sk-container-id-2 div.sk-container {/* jupyter's `normalize.less` sets `[hidden] { display: none; }` but bootstrap.min.css set `[hidden] { display: none !important; }` so we also need the `!important` here to be able to override the default hidden behavior on the sphinx rendered scikit-learn.org. See: https://github.com/scikit-learn/scikit-learn/issues/21755 */display: inline-block !important;position: relative;}#sk-container-id-2 div.sk-text-repr-fallback {display: none;}</style><div id=\"sk-container-id-2\" class=\"sk-top-container\"><div class=\"sk-text-repr-fallback\"><pre>KNeighborsClassifier()</pre><b>In a Jupyter environment, please rerun this cell to show the HTML representation or trust the notebook. <br />On GitHub, the HTML representation is unable to render, please try loading this page with nbviewer.org.</b></div><div class=\"sk-container\" hidden><div class=\"sk-item\"><div class=\"sk-estimator sk-toggleable\"><input class=\"sk-toggleable__control sk-hidden--visually\" id=\"sk-estimator-id-2\" type=\"checkbox\" checked><label for=\"sk-estimator-id-2\" class=\"sk-toggleable__label sk-toggleable__label-arrow\">KNeighborsClassifier</label><div class=\"sk-toggleable__content\"><pre>KNeighborsClassifier()</pre></div></div></div></div></div>"
      ],
      "text/plain": [
       "KNeighborsClassifier()"
      ]
     },
     "execution_count": 20,
     "metadata": {},
     "output_type": "execute_result"
    }
   ],
   "source": [
    "from sklearn.neighbors import KNeighborsClassifier\n",
    "knn = KNeighborsClassifier()\n",
    "knn.fit(X_train, y_train)"
   ]
  },
  {
   "cell_type": "markdown",
   "metadata": {
    "id": "wKH-Sab9M0Ss"
   },
   "source": [
    "### Predict"
   ]
  },
  {
   "cell_type": "markdown",
   "metadata": {
    "id": "rXk9xM8KQsKi"
   },
   "source": [
    "Fungsi predict() pada objek knn digunakan untuk melakukan prediksi kelas pada variabel dependen (y) pada data uji (X_test). Hasil prediksi tersebut disimpan pada variabel y_pred.\n",
    "Tujuannya adalah untuk mengevaluasi sejauh mana model dapat memprediksi kelas dengan benar pada data yang belum pernah dilihat sebelumnya."
   ]
  },
  {
   "cell_type": "code",
   "execution_count": 21,
   "metadata": {
    "executionInfo": {
     "elapsed": 504,
     "status": "ok",
     "timestamp": 1680511412152,
     "user": {
      "displayName": "21-182 DESTI FITROTUN NISA",
      "userId": "06543826639552767966"
     },
     "user_tz": -420
    },
    "id": "Od1a_wEUKh6I"
   },
   "outputs": [],
   "source": [
    "y_pred = knn.predict(X_test)"
   ]
  },
  {
   "cell_type": "markdown",
   "metadata": {
    "id": "sZNwKVLkM3bO"
   },
   "source": [
    "### Accuracy"
   ]
  },
  {
   "cell_type": "markdown",
   "metadata": {
    "id": "4Zal2wzeQ1Y3"
   },
   "source": [
    "Pada tahap ini yaitu melakukan perhitungan akurasi dengan mengimport fungsi accuracy_score dari library Scikit-learn (sklearn.metrics) dan menggunakan fungsi tersebut untuk menghitung nilai akurasi (accuracy) dari model K-Nearest Neighbors (KNN) yang telah dilatih pada data latih dan diuji pada data uji.\n"
   ]
  },
  {
   "cell_type": "code",
   "execution_count": 22,
   "metadata": {
    "executionInfo": {
     "elapsed": 615,
     "status": "ok",
     "timestamp": 1680511495183,
     "user": {
      "displayName": "21-182 DESTI FITROTUN NISA",
      "userId": "06543826639552767966"
     },
     "user_tz": -420
    },
    "id": "fCRB-FVjLSjI"
   },
   "outputs": [],
   "source": [
    "from sklearn.metrics import accuracy_score\n",
    "ac = accuracy_score(y_test, y_pred)\n"
   ]
  },
  {
   "cell_type": "code",
   "execution_count": 23,
   "metadata": {
    "colab": {
     "base_uri": "https://localhost:8080/"
    },
    "executionInfo": {
     "elapsed": 468,
     "status": "ok",
     "timestamp": 1680511498456,
     "user": {
      "displayName": "21-182 DESTI FITROTUN NISA",
      "userId": "06543826639552767966"
     },
     "user_tz": -420
    },
    "id": "Q2khqVCZM8s6",
    "outputId": "0b9061cb-823b-4f38-ade6-97494feb60be"
   },
   "outputs": [
    {
     "name": "stdout",
     "output_type": "stream",
     "text": [
      "Accuracy: 0.7454545454545455\n"
     ]
    }
   ],
   "source": [
    "print(\"Accuracy:\", ac)"
   ]
  },
  {
   "cell_type": "markdown",
   "metadata": {
    "id": "26lE6SmgRodP"
   },
   "source": [
    "Fungsi accuracy_score() pada code tersebut menerima dua parameter y_test dan y_pred. Parameter y_test adalah variabel dependen pada data uji yang merupakan kelas sebenarnya atau target nilai, sedangkan y_pred adalah prediksi yang dihasilkan oleh model.\n",
    "\n",
    "Fungsi accuracy_score() akan menghitung jumlah prediksi yang benar dan membaginya dengan jumlah total data uji untuk mendapatkan nilai akurasi. Akurasi adalah metrik evaluasi yang digunakan untuk mengukur seberapa akurat model dalam memprediksi kelas pada data uji."
   ]
  }
 ],
 "metadata": {
  "colab": {
   "provenance": []
  },
  "kernelspec": {
   "display_name": "Python 3",
   "name": "python3"
  },
  "language_info": {
   "codemirror_mode": {
    "name": "ipython",
    "version": 3
   },
   "file_extension": ".py",
   "mimetype": "text/x-python",
   "name": "python",
   "nbconvert_exporter": "python",
   "pygments_lexer": "ipython3",
   "version": "3.10.11"
  }
 },
 "nbformat": 4,
 "nbformat_minor": 0
}